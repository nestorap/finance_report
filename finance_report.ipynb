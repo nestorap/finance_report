{
 "cells": [
  {
   "cell_type": "markdown",
   "metadata": {},
   "source": [
    "# Intro\n",
    "En este notebook tenemos el procedimiento en python para leer y procesar los archivos con los movimientos de las compras de las acciones"
   ]
  },
  {
   "cell_type": "code",
   "execution_count": 4,
   "metadata": {},
   "outputs": [],
   "source": [
    "# Librerías\n",
    "import os\n",
    "import numpy as np\n",
    "import pandas as pd\n",
    "from io import StringIO\n",
    "from dotenv import load_dotenv\n",
    "\n",
    "# Gráficas\n",
    "import seaborn as sns\n",
    "\n",
    "#fecha\n",
    "from datetime import datetime"
   ]
  },
  {
   "cell_type": "markdown",
   "metadata": {},
   "source": [
    "# Funciones"
   ]
  },
  {
   "cell_type": "code",
   "execution_count": 34,
   "metadata": {},
   "outputs": [],
   "source": [
    "# Leemos lo que nos interesa de los csvs\n",
    "def read_csv(ruta:str, year:int) -> pd.DataFrame:\n",
    "\n",
    "    # Creamos el path al archivo de origen\n",
    "    path = f'{ruta}/informe_{str(year)}/informe_csv_{str(year)}.csv'\n",
    "    # Leer todo como texto plano\n",
    "    with open(path, encoding='utf-8') as f:\n",
    "        lines = f.readlines()\n",
    "    \n",
    "    # Sacamos el indice de las cabeceras con los nombres de las columnas\n",
    "    section_indices = [i for i, line in enumerate(lines) if \"Operaciones\" in line and \"Header\" in line]\n",
    "\n",
    "    # Parsear tabla de \"Operaciones\"\n",
    "    start = section_indices[0]\n",
    "    end = section_indices[1] if len(section_indices) > 1 else len(lines)\n",
    "\n",
    "    trade_lines = lines[start:end]\n",
    "\n",
    "    df_op = pd.read_csv(StringIO(''.join(trade_lines)))\n",
    "\n",
    "    return df_op"
   ]
  },
  {
   "cell_type": "markdown",
   "metadata": {},
   "source": [
    "# Leemos la data"
   ]
  },
  {
   "cell_type": "code",
   "execution_count": 35,
   "metadata": {},
   "outputs": [],
   "source": [
    "# Cargar el archivo .env\n",
    "load_dotenv()\n",
    "\n",
    "# Acceder a las variables\n",
    "ruta_origen = os.getenv(\"ORIGEN_PATH\")\n",
    "ruta_destino = os.getenv(\"DEST_PATH\")\n",
    "\n",
    "# Seleccionamos el año que queremos procesar\n",
    "year = 2022"
   ]
  },
  {
   "cell_type": "code",
   "execution_count": 36,
   "metadata": {},
   "outputs": [],
   "source": [
    "# Leemos el df\n",
    "df = read_csv(ruta=ruta_origen, year=year)"
   ]
  },
  {
   "cell_type": "code",
   "execution_count": 39,
   "metadata": {},
   "outputs": [],
   "source": [
    "# Quitamos las filas que no nos interesan, que son las de subtotales y totales que guardaremos en otro df\n",
    "df_ops = df.loc[df['Header'] == 'Data',:]\n",
    "df_ops_totales = df.loc[df['Header'] != 'Data' ,:]"
   ]
  },
  {
   "cell_type": "code",
   "execution_count": null,
   "metadata": {},
   "outputs": [],
   "source": []
  }
 ],
 "metadata": {
  "kernelspec": {
   "display_name": "finance-report",
   "language": "python",
   "name": "python3"
  },
  "language_info": {
   "codemirror_mode": {
    "name": "ipython",
    "version": 3
   },
   "file_extension": ".py",
   "mimetype": "text/x-python",
   "name": "python",
   "nbconvert_exporter": "python",
   "pygments_lexer": "ipython3",
   "version": "3.13.1"
  }
 },
 "nbformat": 4,
 "nbformat_minor": 2
}
