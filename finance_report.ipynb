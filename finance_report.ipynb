{
 "cells": [
  {
   "cell_type": "markdown",
   "metadata": {},
   "source": [
    "# Intro\n",
    "En este notebook tenemos el procedimiento en python para leer y procesar los archivos con los movimientos de las compras de las acciones.\n",
    "En la nomenclatura:\n",
    "- O = operación de apertura o compra\n",
    "- C = operación de cierre o venta"
   ]
  },
  {
   "cell_type": "code",
   "execution_count": null,
   "metadata": {},
   "outputs": [],
   "source": [
    "# Librerías\n",
    "import os\n",
    "import numpy as np\n",
    "import pandas as pd\n",
    "from io import StringIO\n",
    "from dotenv import load_dotenv\n",
    "\n",
    "# Gráficas\n",
    "import seaborn as sns\n",
    "\n",
    "#fecha\n",
    "from datetime import datetime"
   ]
  },
  {
   "cell_type": "markdown",
   "metadata": {},
   "source": [
    "# Funciones"
   ]
  },
  {
   "cell_type": "code",
   "execution_count": null,
   "metadata": {},
   "outputs": [],
   "source": [
    "# Leemos lo que nos interesa de los csvs\n",
    "def read_csv(ruta:str, year:int) -> pd.DataFrame:\n",
    "\n",
    "    # Creamos el path al archivo de origen\n",
    "    path = f'{ruta}/informe_{str(year)}/informe_csv_{str(year)}.csv'\n",
    "    # Leer todo como texto plano\n",
    "    with open(path, encoding='utf-8') as f:\n",
    "        lines = f.readlines()\n",
    "    \n",
    "    # Sacamos el indice de las cabeceras con los nombres de las columnas\n",
    "    section_indices = [i for i, line in enumerate(lines) if \"Operaciones\" in line and \"Header\" in line]\n",
    "\n",
    "    # Parsear tabla de \"Operaciones\"\n",
    "    start = section_indices[0]\n",
    "    end = section_indices[1] if len(section_indices) > 1 else len(lines)\n",
    "\n",
    "    trade_lines = lines[start:end]\n",
    "\n",
    "    df_op = pd.read_csv(StringIO(''.join(trade_lines)))\n",
    "\n",
    "    return df_op"
   ]
  },
  {
   "cell_type": "markdown",
   "metadata": {},
   "source": [
    "# Leemos la data"
   ]
  },
  {
   "cell_type": "code",
   "execution_count": null,
   "metadata": {},
   "outputs": [],
   "source": [
    "# Cargar el archivo .env\n",
    "load_dotenv()\n",
    "\n",
    "# Acceder a las variables\n",
    "ruta_origen = os.getenv(\"ORIGEN_PATH\")\n",
    "ruta_destino = os.getenv(\"DEST_PATH\")\n",
    "\n",
    "# Seleccionamos el año que queremos procesar\n",
    "year = 2022"
   ]
  },
  {
   "cell_type": "code",
   "execution_count": null,
   "metadata": {},
   "outputs": [],
   "source": [
    "# Leemos el df del informe\n",
    "df = read_csv(ruta=ruta_origen, year=year)"
   ]
  },
  {
   "cell_type": "code",
   "execution_count": null,
   "metadata": {},
   "outputs": [],
   "source": [
    "# Leemos los tipos de cambio\n",
    "path_forex = f'{ruta_origen}/informe_{year}/tipo_cambio_EURUSD_{year}.xls'\n",
    "forex = pd.read_excel(path_forex)"
   ]
  },
  {
   "cell_type": "markdown",
   "metadata": {},
   "source": [
    "# Preprocesamiento"
   ]
  },
  {
   "cell_type": "code",
   "execution_count": null,
   "metadata": {},
   "outputs": [],
   "source": [
    "# Quitamos las filas que no nos interesan, que son las de subtotales y totales que guardaremos en otro df\n",
    "df_ops = df.loc[df['Header'] == 'Data',:]\n",
    "df_ops_totales = df.loc[df['Header'] != 'Data' ,:]"
   ]
  },
  {
   "cell_type": "code",
   "execution_count": null,
   "metadata": {},
   "outputs": [],
   "source": [
    "# Convertimos la columna fecha a un formato estandar. Esto es para luego unir con los tipo de cambio\n",
    "df_ops['key_forex'] = df_ops.loc[:,'Fecha/Hora'].apply(lambda x : datetime.strptime(x, '%Y-%m-%d, %H:%M:%S') if x != 'No Fecha' else 'No Fecha')\n",
    "\n",
    "# Convertimos la columna key_forex al formato str '%Y%m%d'\n",
    "df_ops['key_forex'] = df_ops.loc[:,'key_forex'].apply(lambda x : x.strftime('%Y%m%d') if x != 'No Fecha' else 'No Fecha')"
   ]
  },
  {
   "cell_type": "markdown",
   "metadata": {},
   "source": [
    "## Preprocesamos el dataset de forex"
   ]
  },
  {
   "cell_type": "code",
   "execution_count": null,
   "metadata": {},
   "outputs": [],
   "source": [
    "# Eliminamos las 2 ultimas filas que no nos sirven\n",
    "forex = forex.iloc[:-2,:]"
   ]
  },
  {
   "cell_type": "code",
   "execution_count": null,
   "metadata": {},
   "outputs": [],
   "source": [
    "# Ponemos el formato string en la fecha para que no nos de error al hacer join\n",
    "forex['key_forex'] = forex.loc[:,'FRECUENCIA'].apply(lambda x : x.strftime('%Y%m%d'))"
   ]
  },
  {
   "cell_type": "markdown",
   "metadata": {},
   "source": [
    "# Unimos ambos dfs\n",
    "Unimos los 2 dfs y de esta manera obtenemos los movimientos y los tipos de cambio en cada día y año."
   ]
  },
  {
   "cell_type": "code",
   "execution_count": null,
   "metadata": {},
   "outputs": [],
   "source": [
    "df_supreme = pd.merge(\n",
    "    left = df_ops,\n",
    "    right = forex,\n",
    "    left_on = 'key_forex',\n",
    "    right_on = 'key_forex',\n",
    "    how = 'left'\n",
    ")"
   ]
  },
  {
   "cell_type": "code",
   "execution_count": null,
   "metadata": {},
   "outputs": [],
   "source": [
    "# Seleccionamos las columnas que nos interesan tener\n",
    "columnas = [\n",
    "    'Símbolo',\n",
    "    'Fecha/Hora',\n",
    "    'Cantidad',\n",
    "    'Precio trans.',\n",
    "    'Productos',\n",
    "    'Tarifa/com.',\n",
    "    'Código',\n",
    "    'Lunes a Viernes'\n",
    "]\n",
    "df_sucio = df_supreme.loc[:, columnas]"
   ]
  },
  {
   "cell_type": "code",
   "execution_count": null,
   "metadata": {},
   "outputs": [],
   "source": [
    "# Renombramos algunas columnas\n",
    "\n",
    "df_rename = df_sucio.rename(columns={\n",
    "    'Símbolo' : 'Simbolo',\n",
    "    'Fecha/Hora' : 'Fecha',\n",
    "    'Precio trans.' : 'Precio_unitario_dolares',\n",
    "    'Productos' : 'Precio_acciones_dolares',\n",
    "    'Tarifa/com.' : 'Comision_dolares',\n",
    "    'Lunes a Viernes' : 'Tipo_cambio',\n",
    "    'Código' : 'Codigo'\n",
    "})"
   ]
  },
  {
   "cell_type": "code",
   "execution_count": null,
   "metadata": {},
   "outputs": [],
   "source": [
    "# Convertimos la columna de precio en dolares a float\n",
    "df_rename['Precio_unitario_dolares'] = df_rename.loc[:,'Precio_unitario_dolares'].astype(float)\n",
    "df_rename['Comision_dolares'] = df_rename.loc[:,'Comision_dolares'].astype(float)\n",
    "df_rename['Cantidad'] = df_rename.loc[:,'Cantidad'].astype(float)"
   ]
  },
  {
   "cell_type": "code",
   "execution_count": null,
   "metadata": {},
   "outputs": [],
   "source": [
    "# Calculamos el precio y la comision en euros unitarios\n",
    "df_rename['Precio_unitario_euros'] = df_rename.loc[:,'Precio_unitario_dolares'] / df_rename.loc[:,'Tipo_cambio']\n",
    "df_rename['Comision_euros'] = df_rename.loc[:,'Comision_dolares'] / df_rename.loc[:,'Tipo_cambio']\n",
    "\n",
    "# Calculamos el precio del paquete de acciones en euros\n",
    "df_rename['Precio_acciones_euros'] = df_rename.loc[:,'Precio_acciones_dolares'] / df_rename.loc[:,'Tipo_cambio']"
   ]
  },
  {
   "cell_type": "code",
   "execution_count": null,
   "metadata": {},
   "outputs": [],
   "source": []
  },
  {
   "cell_type": "code",
   "execution_count": null,
   "metadata": {},
   "outputs": [],
   "source": [
    "# Calculamos los precios junto a las comisiones\n",
    "df_rename[\"Precio_euros_con_comisiones\"] = df_rename.loc[:,\"Precio_acciones_euros\"] + df_rename.loc[:,\"Comision_euros\"]\n",
    "df_rename[\"Precio_dolares_con_comisiones\"] = df_rename.loc[:,\"Precio_acciones_dolares\"] + df_rename.loc[:,\"Comision_dolares\"]"
   ]
  },
  {
   "cell_type": "code",
   "execution_count": null,
   "metadata": {},
   "outputs": [],
   "source": [
    "# Sacamos la columna del total de las transacciones\n",
    "# df_rename['Precio_dolares_total'] = df_rename.loc[:,'Precio_dolares'] * df_rename.loc[:,'Cantidad'] * -1\n",
    "# df_rename['Precio_euros_total'] = df_rename.loc[:,'Precio_euros'] * df_rename.loc[:,'Cantidad'] * -1"
   ]
  },
  {
   "cell_type": "code",
   "execution_count": null,
   "metadata": {},
   "outputs": [],
   "source": [
    "# Obtenemos el primer df limpio con la info desagregada\n",
    "df_clean_1 = df_rename.copy()"
   ]
  },
  {
   "cell_type": "markdown",
   "metadata": {},
   "source": [
    "# Df agrupado\n",
    "En esta sección seguimos los siguientes pasos:\n",
    "- 1. Dividimos en 2 dfs las compras y las ventas.\n",
    "- 2. Agrupamos los 2 dfs, de esta manera sabemos el gasto en compras y ventas.\n",
    "- 3. Obtenemos el precio unitario. La razón está en el último punto de esta sección.\n",
    "- 4. Unimos los 2 dfs. Obtenemos un df con la información de la accioón en cada fila.\n",
    "- 5. Calculamos el valor de la compra en función del número de acciones que hayamos vendido, ya que si hay alguna acción que en el ejercicio de 2022 no la hemos vendido, no se usará para calcular el beneficio y pasará al ejercicio del año siguiente."
   ]
  },
  {
   "cell_type": "code",
   "execution_count": null,
   "metadata": {},
   "outputs": [],
   "source": [
    "#TODO --> revisar los calculos de aquellos movimientos en los que me quedo con acciones para el año siguiente. Plantear un bucle en lugar de una agrupacion"
   ]
  },
  {
   "cell_type": "code",
   "execution_count": null,
   "metadata": {},
   "outputs": [],
   "source": [
    "# Obtenemos el df de las ventas\n",
    "df_ventas = df_clean_1.loc[\n",
    "    df_clean_1[\"Codigo\"].isin(values=[\"C\", \"C;P\"]),\n",
    "    [\"Simbolo\", \"Cantidad\", \"Precio_dolares_con_comisiones\", \"Precio_euros_con_comisiones\", 'Comision_dolares', 'Comision_euros']\n",
    "]\n",
    "# Obtenemos el df con las compras\n",
    "df_compras = df_clean_1.loc[\n",
    "    df_clean_1[\"Codigo\"].isin(values=[\"O\", \"O;P\"]),\n",
    "    [\"Simbolo\", \"Cantidad\", \"Precio_dolares_con_comisiones\", \"Precio_euros_con_comisiones\", 'Comision_dolares', 'Comision_euros']\n",
    "]\n",
    "\n",
    "# Renombramos las columnas de precios unitarios para diferenciar entre compras y ventas\n",
    "df_ventas = df_ventas.rename(columns={\n",
    "    \"Cantidad\" : \"Cantidad_ventas\",\n",
    "    \"Precio_dolares_con_comisiones\" : \"Precio_dolares_con_comisiones_ventas\",\n",
    "    \"Precio_euros_con_comisiones\" : \"Precio_euros_con_comisiones_ventas\",\n",
    "    \"Comision_dolares\" : \"Comision_dolares_ventas\",\n",
    "    \"Comision_euros\" : \"Comision_euros_ventas\"\n",
    "})\n",
    "df_compras = df_compras.rename(columns={\n",
    "    \"Cantidad\" : \"Cantidad_compras\",\n",
    "    \"Precio_dolares_con_comisiones\" : \"Precio_dolares_con_comisiones_compras\",\n",
    "    \"Precio_euros_con_comisiones\" : \"Precio_euros_con_comisiones_compras\",\n",
    "    \"Comision_dolares\" : \"Comision_dolares_compras\",\n",
    "    \"Comision_euros\" : \"Comision_euros_compras\"\n",
    "})"
   ]
  },
  {
   "cell_type": "code",
   "execution_count": null,
   "metadata": {},
   "outputs": [],
   "source": [
    "# Agrupamos para tener el total de ventas\n",
    "df_ventas_agrup = df_ventas.groupby([\"Simbolo\"]).\\\n",
    "apply(sum, axis=0).\\\n",
    "loc[:,['Cantidad_ventas','Precio_dolares_con_comisiones_ventas', 'Precio_euros_con_comisiones_ventas', 'Comision_dolares_ventas', 'Comision_euros_ventas']].\\\n",
    "reset_index()\n",
    "\n",
    "# Agrupamos para obtener las compras\n",
    "df_compras_agrup = df_compras.groupby([\"Simbolo\"]).\\\n",
    "apply(sum, axis=0).\\\n",
    "loc[:,['Cantidad_compras', 'Precio_dolares_con_comisiones_compras', 'Precio_euros_con_comisiones_compras', 'Comision_dolares_compras', 'Comision_euros_compras']].\\\n",
    "reset_index()"
   ]
  },
  {
   "cell_type": "code",
   "execution_count": null,
   "metadata": {},
   "outputs": [],
   "source": []
  },
  {
   "cell_type": "code",
   "execution_count": null,
   "metadata": {},
   "outputs": [],
   "source": [
    "# Agrupamos por el ticker y las compras y las ventas\n",
    "# df_agrup_compras_ventas = df_clean_1.groupby(['Simbolo', 'Codigo']).\\\n",
    "# apply(sum, axis=0).\\\n",
    "# loc[:,['Cantidad','Precio_dolares_con_comisiones', 'Precio_euros_con_comisiones', 'Comision_dolares', 'Comision_euros']].\\\n",
    "# reset_index()"
   ]
  },
  {
   "cell_type": "code",
   "execution_count": null,
   "metadata": {},
   "outputs": [],
   "source": []
  },
  {
   "cell_type": "code",
   "execution_count": null,
   "metadata": {},
   "outputs": [],
   "source": [
    "# # Obtenemos el df de las ventas\n",
    "# df_ventas = df_agrup_compras_ventas.loc[\n",
    "#     df_agrup_compras_ventas[\"Codigo\"].isin(values=[\"C\", \"C;P\"]),\n",
    "#     [\"Simbolo\", \"Cantidad\", \"Precio_dolares_con_comisiones\", \"Precio_euros_con_comisiones\"]\n",
    "# ]\n",
    "\n",
    "# df_compras = df_agrup_compras_ventas.loc[\n",
    "#     df_agrup_compras_ventas[\"Codigo\"].isin(values=[\"O\", \"O;P\"]),\n",
    "#     [\"Simbolo\", \"Precio_unitario_dolares\", \"Precio_unitario_euros\"]\n",
    "# ]\n",
    "\n",
    "# # Renombramos las columnas de precios unitarios para diferenciar entre compras y ventas\n",
    "# df_ventas = df_ventas.rename(columns={\n",
    "#     \"Precio_unitario_dolares\" : \"Precio_unitario_dolares_ventas\",\n",
    "#     \"Precio_unitario_euros\" : \"Precio_unitario_euros_ventas\"\n",
    "# })\n",
    "# df_compras = df_compras.rename(columns={\n",
    "#     \"Precio_unitario_dolares\" : \"Precio_unitario_dolares_compras\",\n",
    "#     \"Precio_unitario_euros\" : \"Precio_unitario_euros_compras\"\n",
    "# })"
   ]
  },
  {
   "cell_type": "code",
   "execution_count": null,
   "metadata": {},
   "outputs": [],
   "source": [
    "# Unimos los dfs de compras y ventas\n",
    "df_hacienda = pd.merge(\n",
    "    left=df_ventas_agrup,\n",
    "    right=df_compras_agrup,\n",
    "    how=\"inner\",\n",
    "    on=\"Simbolo\"\n",
    ")"
   ]
  },
  {
   "cell_type": "code",
   "execution_count": null,
   "metadata": {},
   "outputs": [],
   "source": [
    "# Sacamos el precio por acción de las compras. Esto nos ayuda para luego hacer la resta entre las compras y ventas para ver el beneficio.\n",
    "df_hacienda[\"Precio_unitario_dolares_compras\"] = df_hacienda.loc[:,\"Precio_dolares_con_comisiones_compras\"] / df_hacienda.loc[:,\"Cantidad_compras\"] # Lo ponemos en posi\n",
    "df_hacienda[\"Precio_unitario_euros_compras\"] = df_hacienda.loc[:,\"Precio_euros_con_comisiones_compras\"] / df_hacienda.loc[:,\"Cantidad_compras\"] # Lo ponemos en posi"
   ]
  },
  {
   "cell_type": "code",
   "execution_count": null,
   "metadata": {},
   "outputs": [],
   "source": [
    "# Calculamos el coste de las compras\n",
    "df_hacienda[\"Precio_dolares_con_comisiones_compras\"] = df_hacienda.loc[:,\"Precio_unitario_dolares_compras\"] * df_hacienda.loc[:,\"Cantidad_ventas\"]\n",
    "df_hacienda[\"Precio_euros_con_comisiones_compras\"] = df_hacienda.loc[:,\"Precio_unitario_euros_compras\"] * df_hacienda.loc[:,\"Cantidad_ventas\"]"
   ]
  },
  {
   "cell_type": "code",
   "execution_count": null,
   "metadata": {},
   "outputs": [],
   "source": [
    "# # Calculamos el precio de las compras\n",
    "# df_hacienda[\"Precio_dolares_compra\"] = df_hacienda.loc[:,\"Precio_unitario_dolares_compras\"] * df_hacienda.loc[:,\"Cantidad_ventas\"]\n",
    "# df_hacienda[\"Precio_euros_compra\"] = df_hacienda.loc[:,\"Precio_unitario_euros_compras\"] * df_hacienda.loc[:,\"Cantidad_ventas\"]"
   ]
  },
  {
   "cell_type": "code",
   "execution_count": null,
   "metadata": {},
   "outputs": [],
   "source": [
    "df_hacienda[\"resultado_euros\"] = df_hacienda.loc[:,\"Precio_euros_con_comisiones_compras\"] - df_hacienda.loc[:,\"Precio_euros_con_comisiones_ventas\"]\n",
    "df_hacienda[\"resultado_dolares\"] = df_hacienda.loc[:,\"Precio_dolares_con_comisiones_compras\"] - df_hacienda.loc[:,\"Precio_dolares_con_comisiones_ventas\"]"
   ]
  },
  {
   "cell_type": "code",
   "execution_count": null,
   "metadata": {},
   "outputs": [],
   "source": []
  }
 ],
 "metadata": {
  "kernelspec": {
   "display_name": "finance-report",
   "language": "python",
   "name": "python3"
  },
  "language_info": {
   "codemirror_mode": {
    "name": "ipython",
    "version": 3
   },
   "file_extension": ".py",
   "mimetype": "text/x-python",
   "name": "python",
   "nbconvert_exporter": "python",
   "pygments_lexer": "ipython3",
   "version": "3.13.1"
  }
 },
 "nbformat": 4,
 "nbformat_minor": 2
}
